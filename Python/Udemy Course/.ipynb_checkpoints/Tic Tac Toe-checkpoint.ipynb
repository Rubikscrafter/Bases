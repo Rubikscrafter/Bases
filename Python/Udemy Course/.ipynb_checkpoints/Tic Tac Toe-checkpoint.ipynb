{
 "cells": [
  {
   "cell_type": "code",
   "execution_count": null,
   "metadata": {},
   "outputs": [],
   "source": [
    "print('Welcome to Tic Tac Toe!')\n",
    "player_input()\n",
    "board = ['','','','','','','','','','']\n",
    "display_board(board)\n",
    "while (game):\n",
    "    display_board(board)\n",
    "    \n",
    "    \n",
    "\n",
    "def display_board(board):\n",
    "    print(board[1]+'|'+board[2]+'|'+board[3])\n",
    "    print('-----')\n",
    "    print(board[4]+'|'+board[5]+'|'+board[6])\n",
    "    print('-----')\n",
    "    print(board[7]+'|'+board[8]+'|'+board[9])\n",
    "\n",
    "def player_input():\n",
    "    player1 = ''\n",
    "    while (player1 is not 'X' or player1 is not 'O'):\n",
    "        player1 = input('Does Player 1 want to be X or O?')\n",
    "        player1.upper()\n",
    "    print(f'Player 1 has chosen to be {player1}')"
   ]
  }
 ],
 "metadata": {
  "kernelspec": {
   "display_name": "Python 3",
   "language": "python",
   "name": "python3"
  },
  "language_info": {
   "codemirror_mode": {
    "name": "ipython",
    "version": 3
   },
   "file_extension": ".py",
   "mimetype": "text/x-python",
   "name": "python",
   "nbconvert_exporter": "python",
   "pygments_lexer": "ipython3",
   "version": "3.6.5"
  }
 },
 "nbformat": 4,
 "nbformat_minor": 2
}
